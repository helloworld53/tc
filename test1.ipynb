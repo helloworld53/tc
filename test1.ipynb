{
 "cells": [
  {
   "cell_type": "code",
   "execution_count": null,
   "id": "3ed04edc",
   "metadata": {},
   "outputs": [],
   "source": [
    "# from langchain.agents import tool\n",
    "\n",
    "# @tool\n",
    "# def calculate_residency_duration(entry_date: str, exit_date: str):\n",
    "#     ...\n",
    "\n",
    "# @tool\n",
    "# def get_visa_info(country: str, visa_type: str):\n",
    "#     ...\n",
    "\n",
    "# @tool\n",
    "# def translate_to_lithuanian(text: str):\n",
    "#     ...\n"
   ]
  },
  {
   "cell_type": "code",
   "execution_count": null,
   "id": "c3de4a41",
   "metadata": {},
   "outputs": [
    {
     "name": "stderr",
     "output_type": "stream",
     "text": [
      "Exception ignored in: <bound method IPythonKernel._clean_thread_parent_frames of <ipykernel.ipkernel.IPythonKernel object at 0x71cf81e46e00>>\n",
      "Traceback (most recent call last):\n",
      "  File \"/home/helloworld/outetts/.venv/lib/python3.10/site-packages/ipykernel/ipkernel.py\", line 781, in _clean_thread_parent_frames\n",
      "    def _clean_thread_parent_frames(\n",
      "KeyboardInterrupt: \n"
     ]
    },
    {
     "ename": "StreamlitSecretNotFoundError",
     "evalue": "No secrets found. Valid paths for a secrets.toml file or secret directories are: /root/.streamlit/secrets.toml, /home/helloworld/tc_02/.streamlit/secrets.toml",
     "output_type": "error",
     "traceback": [
      "\u001b[0;31m---------------------------------------------------------------------------\u001b[0m",
      "\u001b[0;31mStreamlitSecretNotFoundError\u001b[0m              Traceback (most recent call last)",
      "Cell \u001b[0;32mIn[111], line 57\u001b[0m\n\u001b[1;32m     54\u001b[0m     \u001b[38;5;28mprint\u001b[39m(\u001b[38;5;124mf\u001b[39m\u001b[38;5;124m\"\u001b[39m\u001b[38;5;124m✅ Vector store saved to \u001b[39m\u001b[38;5;132;01m{\u001b[39;00mVECTOR_DIR\u001b[38;5;132;01m}\u001b[39;00m\u001b[38;5;124m with \u001b[39m\u001b[38;5;132;01m{\u001b[39;00m\u001b[38;5;28mlen\u001b[39m(chunks)\u001b[38;5;132;01m}\u001b[39;00m\u001b[38;5;124m chunks.\u001b[39m\u001b[38;5;124m\"\u001b[39m)\n\u001b[1;32m     56\u001b[0m \u001b[38;5;28;01mif\u001b[39;00m \u001b[38;5;18m__name__\u001b[39m \u001b[38;5;241m==\u001b[39m \u001b[38;5;124m\"\u001b[39m\u001b[38;5;124m__main__\u001b[39m\u001b[38;5;124m\"\u001b[39m:\n\u001b[0;32m---> 57\u001b[0m     \u001b[43mmain\u001b[49m\u001b[43m(\u001b[49m\u001b[43m)\u001b[49m\n",
      "Cell \u001b[0;32mIn[111], line 40\u001b[0m, in \u001b[0;36mmain\u001b[0;34m()\u001b[0m\n\u001b[1;32m     31\u001b[0m chunks \u001b[38;5;241m=\u001b[39m splitter\u001b[38;5;241m.\u001b[39msplit_documents(docs)\n\u001b[1;32m     32\u001b[0m \u001b[38;5;66;03m# client = OpenAI(api_key=st.secrets[\"OPENAI_API_KEY\"], base_url=\"https://api.together.xyz/v1\")\u001b[39;00m\n\u001b[1;32m     33\u001b[0m \u001b[38;5;66;03m# print(chunks[0])\u001b[39;00m\n\u001b[1;32m     34\u001b[0m \n\u001b[1;32m     35\u001b[0m \u001b[38;5;66;03m# Embeddings via Together AI (OpenAI-compatible)\u001b[39;00m\n\u001b[1;32m     36\u001b[0m embeddings \u001b[38;5;241m=\u001b[39m OpenAIEmbeddings(\n\u001b[1;32m     37\u001b[0m     \u001b[38;5;66;03m# model=\"BAAI/bge-base-en-v1.5\",\u001b[39;00m\n\u001b[1;32m     38\u001b[0m     model\u001b[38;5;241m=\u001b[39m\u001b[38;5;124m\"\u001b[39m\u001b[38;5;124mtogethercomputer/m2-bert-80M-32k-retrieval\u001b[39m\u001b[38;5;124m\"\u001b[39m,\n\u001b[1;32m     39\u001b[0m     base_url\u001b[38;5;241m=\u001b[39m\u001b[38;5;124m\"\u001b[39m\u001b[38;5;124mhttps://api.together.xyz/v1\u001b[39m\u001b[38;5;124m\"\u001b[39m,\n\u001b[0;32m---> 40\u001b[0m     api_key\u001b[38;5;241m=\u001b[39m\u001b[43mst\u001b[49m\u001b[38;5;241;43m.\u001b[39;49m\u001b[43msecrets\u001b[49m\u001b[43m[\u001b[49m\u001b[38;5;124;43m\"\u001b[39;49m\u001b[38;5;124;43mOPENAI_API_KEY\u001b[39;49m\u001b[38;5;124;43m\"\u001b[39;49m\u001b[43m]\u001b[49m,\n\u001b[1;32m     41\u001b[0m )\n\u001b[1;32m     42\u001b[0m \u001b[38;5;28;01mfor\u001b[39;00m i, d \u001b[38;5;129;01min\u001b[39;00m \u001b[38;5;28menumerate\u001b[39m(chunks):\n\u001b[1;32m     43\u001b[0m     \u001b[38;5;28;01mtry\u001b[39;00m:\n\u001b[1;32m     44\u001b[0m         \u001b[38;5;66;03m# embeddings.embed_query(d.page_content[:2000]) \u001b[39;00m\n",
      "File \u001b[0;32m/home/helloworld/outetts/.venv/lib/python3.10/site-packages/streamlit/runtime/secrets.py:476\u001b[0m, in \u001b[0;36mSecrets.__getitem__\u001b[0;34m(self, key)\u001b[0m\n\u001b[1;32m    470\u001b[0m \u001b[38;5;250m\u001b[39m\u001b[38;5;124;03m\"\"\"Return the value with the given key. If no such key\u001b[39;00m\n\u001b[1;32m    471\u001b[0m \u001b[38;5;124;03mexists, raise a KeyError.\u001b[39;00m\n\u001b[1;32m    472\u001b[0m \n\u001b[1;32m    473\u001b[0m \u001b[38;5;124;03mThread-safe.\u001b[39;00m\n\u001b[1;32m    474\u001b[0m \u001b[38;5;124;03m\"\"\"\u001b[39;00m\n\u001b[1;32m    475\u001b[0m \u001b[38;5;28;01mtry\u001b[39;00m:\n\u001b[0;32m--> 476\u001b[0m     value \u001b[38;5;241m=\u001b[39m \u001b[38;5;28;43mself\u001b[39;49m\u001b[38;5;241;43m.\u001b[39;49m\u001b[43m_parse\u001b[49m\u001b[43m(\u001b[49m\u001b[43m)\u001b[49m[key]\n\u001b[1;32m    477\u001b[0m     \u001b[38;5;28;01mif\u001b[39;00m \u001b[38;5;129;01mnot\u001b[39;00m \u001b[38;5;28misinstance\u001b[39m(value, Mapping):\n\u001b[1;32m    478\u001b[0m         \u001b[38;5;28;01mreturn\u001b[39;00m value\n",
      "File \u001b[0;32m/home/helloworld/outetts/.venv/lib/python3.10/site-packages/streamlit/runtime/secrets.py:377\u001b[0m, in \u001b[0;36mSecrets._parse\u001b[0;34m(self)\u001b[0m\n\u001b[1;32m    371\u001b[0m \u001b[38;5;28;01mif\u001b[39;00m \u001b[38;5;129;01mnot\u001b[39;00m found_secrets_file:\n\u001b[1;32m    372\u001b[0m     error_msg \u001b[38;5;241m=\u001b[39m (\n\u001b[1;32m    373\u001b[0m         secret_error_messages_singleton\u001b[38;5;241m.\u001b[39mget_no_secrets_found_message(\n\u001b[1;32m    374\u001b[0m             file_paths\n\u001b[1;32m    375\u001b[0m         )\n\u001b[1;32m    376\u001b[0m     )\n\u001b[0;32m--> 377\u001b[0m     \u001b[38;5;28;01mraise\u001b[39;00m StreamlitSecretNotFoundError(error_msg)\n\u001b[1;32m    379\u001b[0m \u001b[38;5;28;01mfor\u001b[39;00m k, v \u001b[38;5;129;01min\u001b[39;00m secrets\u001b[38;5;241m.\u001b[39mitems():\n\u001b[1;32m    380\u001b[0m     \u001b[38;5;28mself\u001b[39m\u001b[38;5;241m.\u001b[39m_maybe_set_environment_variable(k, v)\n",
      "\u001b[0;31mStreamlitSecretNotFoundError\u001b[0m: No secrets found. Valid paths for a secrets.toml file or secret directories are: /root/.streamlit/secrets.toml, /home/helloworld/tc_02/.streamlit/secrets.toml"
     ]
    }
   ],
   "source": [
    "# ingest.py\n",
    "import os\n",
    "import glob\n",
    "import streamlit as st\n",
    "from typing import List\n",
    "from langchain_community.document_loaders import PyPDFLoader, TextLoader\n",
    "from langchain.schema import Document\n",
    "from langchain.text_splitter import RecursiveCharacterTextSplitter\n",
    "from langchain_openai import OpenAIEmbeddings\n",
    "from langchain_community.vectorstores.faiss import FAISS\n",
    "from openai import OpenAI\n",
    "DATA_DIR = \"\"\n",
    "VECTOR_DIR = st.secrets.get(\"VECTOR_DIR\", \"vectorstore\")\n",
    "\n",
    "\n",
    "def load_docs() -> List:\n",
    "    docs = []\n",
    "    for path in glob.glob(os.path.join(DATA_DIR, \"**/*\"), recursive=True):\n",
    "        if path.lower().endswith(\".pdf\"):\n",
    "            docs.extend(PyPDFLoader(path).load())\n",
    "        elif path.lower().endswith(\".txt\") or path.lower().endswith(\".md\"):\n",
    "            docs.extend(TextLoader(path, encoding=\"utf-8\").load())\n",
    "    if not docs:\n",
    "        raise RuntimeError(\"No documents found in ./data. Add PDFs or txt/md files.\")\n",
    "    return docs\n",
    "\n",
    "\n",
    "def main():\n",
    "    # os.makedirs(VECTOR_DIR, exist_ok=True)\n",
    "    docs = load_docs()\n",
    "    #Chunking\n",
    "    splitter = RecursiveCharacterTextSplitter(chunk_size=1200, chunk_overlap=150)\n",
    "    chunks = splitter.split_documents(docs)\n",
    "    client = OpenAI(api_key=st.secrets[\"OPENAI_API_KEY\"], base_url=\"https://api.together.xyz/v1\")\n",
    "    print(chunks[0])\n",
    "\n",
    "# Embeddings via Together AI (OpenAI-compatible)\n",
    "    \n",
    "    embeddings = OpenAIEmbeddings(\n",
    "        # model=\"BAAI/bge-base-en-v1.5\",\n",
    "        model=\"togethercomputer/m2-bert-80M-32k-retrieval\",\n",
    "        base_url=\"https://api.together.xyz/v1\",\n",
    "        api_key=st.secrets[\"OPENAI_API_KEY\"],\n",
    "    )\n",
    "    \n",
    "    for i, d in enumerate(chunks):\n",
    "        try:\n",
    "            # embeddings.embed_query(d.page_content[:2000]) \n",
    "            print(client.embeddings.create(model=\"BAAI/bge-base-en-v1.5\", input=d.page_content[:2000])) # test short embed\n",
    "        except Exception as e:\n",
    "            import traceback\n",
    "            traceback.print_exc()\n",
    "            print(f\"❌ Chunk {i} failed, content snippet:\\n{d.page_content[:2000]}\")\n",
    "\n",
    "    # Build FAISS (cosine via internal normalize)\n",
    "    vs = FAISS.from_documents(chunks, embeddings)\n",
    "    vs.save_local(VECTOR_DIR)\n",
    "    print(f\"✅ Vector store saved to {VECTOR_DIR} with {len(chunks)} chunks.\")\n",
    "\n",
    "if __name__ == \"__main__\":\n",
    "    main()"
   ]
  },
  {
   "cell_type": "code",
   "execution_count": null,
   "id": "20074db6",
   "metadata": {},
   "outputs": [],
   "source": []
  }
 ],
 "metadata": {
  "kernelspec": {
   "display_name": ".venv",
   "language": "python",
   "name": "python3"
  },
  "language_info": {
   "codemirror_mode": {
    "name": "ipython",
    "version": 3
   },
   "file_extension": ".py",
   "mimetype": "text/x-python",
   "name": "python",
   "nbconvert_exporter": "python",
   "pygments_lexer": "ipython3",
   "version": "3.10.12"
  }
 },
 "nbformat": 4,
 "nbformat_minor": 5
}
